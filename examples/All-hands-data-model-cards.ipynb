{
 "cells": [
  {
   "cell_type": "code",
   "execution_count": 112,
   "id": "23ee35cf-4763-4322-8de5-d0cc4afde9d0",
   "metadata": {
    "tags": []
   },
   "outputs": [],
   "source": [
    "from opsml.registry import DataCard, ModelCard, CardRegistry, LocalSQLConnection\n",
    "from opsml.connector import SnowflakeQueryRunner"
   ]
  },
  {
   "cell_type": "code",
   "execution_count": 113,
   "id": "366ef27c-fed7-40c9-a2e9-1c20ce197dc4",
   "metadata": {
    "tags": []
   },
   "outputs": [],
   "source": [
    "local_conn = LocalSQLConnection()\n",
    "data_registry = CardRegistry(registry_name=\"data\", connection_client=local_conn)"
   ]
  },
  {
   "cell_type": "code",
   "execution_count": 115,
   "id": "51a2558d-606a-4a1f-bad0-22d723397c9b",
   "metadata": {
    "tags": []
   },
   "outputs": [],
   "source": [
    "#data_registry.list_cards()"
   ]
  },
  {
   "cell_type": "code",
   "execution_count": 6,
   "id": "0c941202-d558-4a9b-b65c-60a32157cfff",
   "metadata": {
    "tags": []
   },
   "outputs": [],
   "source": [
    "query_runner = SnowflakeQueryRunner(on_vpn=True) \n",
    "dataframe = query_runner.query_to_dataframe(sql_file=\"data.sql\") "
   ]
  },
  {
   "cell_type": "code",
   "execution_count": 116,
   "id": "fffb7983-329d-46bc-84a7-33cdc6bad93c",
   "metadata": {
    "tags": []
   },
   "outputs": [
    {
     "data": {
      "text/html": [
       "<div>\n",
       "<style scoped>\n",
       "    .dataframe tbody tr th:only-of-type {\n",
       "        vertical-align: middle;\n",
       "    }\n",
       "\n",
       "    .dataframe tbody tr th {\n",
       "        vertical-align: top;\n",
       "    }\n",
       "\n",
       "    .dataframe thead th {\n",
       "        text-align: right;\n",
       "    }\n",
       "</style>\n",
       "<table border=\"1\" class=\"dataframe\">\n",
       "  <thead>\n",
       "    <tr style=\"text-align: right;\">\n",
       "      <th></th>\n",
       "      <th>TIME_BUNDLE_ID</th>\n",
       "      <th>LOCAL_CREATED_DATE</th>\n",
       "      <th>LOCAL_CREATED_AT</th>\n",
       "      <th>METRO_ID</th>\n",
       "      <th>BUNDLE_TYPE</th>\n",
       "      <th>NBR_ADDRESSES</th>\n",
       "      <th>NBR_ORDERS</th>\n",
       "      <th>DROP_OFF_TIME</th>\n",
       "      <th>EVAL_FLG</th>\n",
       "      <th>EVAL_OUTLIER</th>\n",
       "      <th>NBR_RX</th>\n",
       "      <th>NBR_APT</th>\n",
       "      <th>DATE_DIFF</th>\n",
       "      <th>TRAIN_OUTLIER</th>\n",
       "      <th>SIN_DAY_WK</th>\n",
       "      <th>COS_DAY_WK</th>\n",
       "      <th>SIN_DAY_YR</th>\n",
       "      <th>COS_DAY_YR</th>\n",
       "      <th>SIN_MTH</th>\n",
       "      <th>COS_MTH</th>\n",
       "      <th>SIN_WK_YR</th>\n",
       "      <th>COS_WK_YR</th>\n",
       "      <th>NG_ORDER_ID</th>\n",
       "      <th>METRO_X</th>\n",
       "      <th>METRO_Y</th>\n",
       "      <th>METRO_Z</th>\n",
       "      <th>APT_FLG</th>\n",
       "    </tr>\n",
       "  </thead>\n",
       "  <tbody>\n",
       "    <tr>\n",
       "      <th>0</th>\n",
       "      <td>4cc9dfdc-3f45-4059-a32c-f523c2e6ed6f</td>\n",
       "      <td>2023-01-22</td>\n",
       "      <td>2023-01-22 15:29:30.540773</td>\n",
       "      <td>279</td>\n",
       "      <td>TARP</td>\n",
       "      <td>1</td>\n",
       "      <td>1</td>\n",
       "      <td>5.765323</td>\n",
       "      <td>1</td>\n",
       "      <td>0</td>\n",
       "      <td>0</td>\n",
       "      <td>1</td>\n",
       "      <td>3</td>\n",
       "      <td>0</td>\n",
       "      <td>0.000000</td>\n",
       "      <td>1.000000</td>\n",
       "      <td>0.369725</td>\n",
       "      <td>0.929141</td>\n",
       "      <td>0.499998</td>\n",
       "      <td>0.866026</td>\n",
       "      <td>0.354603</td>\n",
       "      <td>0.935017</td>\n",
       "      <td>E_173223046</td>\n",
       "      <td>-2476.129544</td>\n",
       "      <td>-4684.469262</td>\n",
       "      <td>3537.537451</td>\n",
       "      <td>1</td>\n",
       "    </tr>\n",
       "    <tr>\n",
       "      <th>1</th>\n",
       "      <td>45906cef-be11-4e99-8a53-0bf02cddf9ad</td>\n",
       "      <td>2023-01-21</td>\n",
       "      <td>2023-01-21 16:51:33.521159</td>\n",
       "      <td>8</td>\n",
       "      <td>TARP</td>\n",
       "      <td>3</td>\n",
       "      <td>3</td>\n",
       "      <td>4.324033</td>\n",
       "      <td>1</td>\n",
       "      <td>0</td>\n",
       "      <td>3</td>\n",
       "      <td>3</td>\n",
       "      <td>3</td>\n",
       "      <td>0</td>\n",
       "      <td>-0.781831</td>\n",
       "      <td>0.623491</td>\n",
       "      <td>0.353675</td>\n",
       "      <td>0.935368</td>\n",
       "      <td>0.499998</td>\n",
       "      <td>0.866026</td>\n",
       "      <td>0.354603</td>\n",
       "      <td>0.935017</td>\n",
       "      <td>None</td>\n",
       "      <td>971.121016</td>\n",
       "      <td>-5637.844514</td>\n",
       "      <td>2803.796393</td>\n",
       "      <td>1</td>\n",
       "    </tr>\n",
       "    <tr>\n",
       "      <th>2</th>\n",
       "      <td>f26345af-3be2-407a-83b7-0eabbc4e71c4</td>\n",
       "      <td>2023-01-20</td>\n",
       "      <td>2023-01-20 09:45:52.491128</td>\n",
       "      <td>8</td>\n",
       "      <td>TARP</td>\n",
       "      <td>6</td>\n",
       "      <td>6</td>\n",
       "      <td>13.934235</td>\n",
       "      <td>1</td>\n",
       "      <td>0</td>\n",
       "      <td>0</td>\n",
       "      <td>6</td>\n",
       "      <td>3</td>\n",
       "      <td>0</td>\n",
       "      <td>-0.974928</td>\n",
       "      <td>-0.222519</td>\n",
       "      <td>0.337526</td>\n",
       "      <td>0.941316</td>\n",
       "      <td>0.499998</td>\n",
       "      <td>0.866026</td>\n",
       "      <td>0.354603</td>\n",
       "      <td>0.935017</td>\n",
       "      <td>None</td>\n",
       "      <td>971.121016</td>\n",
       "      <td>-5637.844514</td>\n",
       "      <td>2803.796393</td>\n",
       "      <td>1</td>\n",
       "    </tr>\n",
       "    <tr>\n",
       "      <th>3</th>\n",
       "      <td>81f49d88-2ad0-424c-b583-80147e3984b9</td>\n",
       "      <td>2023-01-17</td>\n",
       "      <td>2023-01-17 14:38:51.334024</td>\n",
       "      <td>15</td>\n",
       "      <td>TARP</td>\n",
       "      <td>2</td>\n",
       "      <td>2</td>\n",
       "      <td>12.475627</td>\n",
       "      <td>1</td>\n",
       "      <td>0</td>\n",
       "      <td>0</td>\n",
       "      <td>2</td>\n",
       "      <td>3</td>\n",
       "      <td>0</td>\n",
       "      <td>0.974928</td>\n",
       "      <td>-0.222519</td>\n",
       "      <td>0.288480</td>\n",
       "      <td>0.957486</td>\n",
       "      <td>0.499998</td>\n",
       "      <td>0.866026</td>\n",
       "      <td>0.354603</td>\n",
       "      <td>0.935017</td>\n",
       "      <td>None</td>\n",
       "      <td>801.337721</td>\n",
       "      <td>-5442.312393</td>\n",
       "      <td>3213.834886</td>\n",
       "      <td>1</td>\n",
       "    </tr>\n",
       "    <tr>\n",
       "      <th>4</th>\n",
       "      <td>b46a865a-7b1f-46f7-bdbb-6c54f77d1835</td>\n",
       "      <td>2023-01-18</td>\n",
       "      <td>2023-01-18 09:42:58.407282</td>\n",
       "      <td>79</td>\n",
       "      <td>TARP</td>\n",
       "      <td>3</td>\n",
       "      <td>3</td>\n",
       "      <td>13.551147</td>\n",
       "      <td>1</td>\n",
       "      <td>0</td>\n",
       "      <td>0</td>\n",
       "      <td>3</td>\n",
       "      <td>3</td>\n",
       "      <td>0</td>\n",
       "      <td>0.433886</td>\n",
       "      <td>-0.900968</td>\n",
       "      <td>0.304921</td>\n",
       "      <td>0.952378</td>\n",
       "      <td>0.499998</td>\n",
       "      <td>0.866026</td>\n",
       "      <td>0.354603</td>\n",
       "      <td>0.935017</td>\n",
       "      <td>None</td>\n",
       "      <td>176.377292</td>\n",
       "      <td>-4740.594241</td>\n",
       "      <td>4252.681306</td>\n",
       "      <td>1</td>\n",
       "    </tr>\n",
       "  </tbody>\n",
       "</table>\n",
       "</div>"
      ],
      "text/plain": [
       "                         TIME_BUNDLE_ID  ... APT_FLG\n",
       "0  4cc9dfdc-3f45-4059-a32c-f523c2e6ed6f  ...       1\n",
       "1  45906cef-be11-4e99-8a53-0bf02cddf9ad  ...       1\n",
       "2  f26345af-3be2-407a-83b7-0eabbc4e71c4  ...       1\n",
       "3  81f49d88-2ad0-424c-b583-80147e3984b9  ...       1\n",
       "4  b46a865a-7b1f-46f7-bdbb-6c54f77d1835  ...       1\n",
       "\n",
       "[5 rows x 27 columns]"
      ]
     },
     "execution_count": 116,
     "metadata": {},
     "output_type": "execute_result"
    }
   ],
   "source": [
    "dataframe.head()"
   ]
  },
  {
   "cell_type": "code",
   "execution_count": 117,
   "id": "d1bc86bf-6ec3-431b-b1c0-9a0f1026ccfd",
   "metadata": {
    "tags": []
   },
   "outputs": [
    {
     "name": "stdout",
     "output_type": "stream",
     "text": [
      "{\"message\": \"DATA_REGISTRY: tarp_drop_off registered as version 9\", \"timestamp\": \"2023-02-09T17:22:07.459172Z\", \"app_env\": \"development\", \"level\": \"INFO\"}\n"
     ]
    }
   ],
   "source": [
    "features = [\n",
    "    \"NBR_ADDRESSES\",\n",
    "    \"NBR_ORDERS\",\n",
    "    \"NBR_RX\",\n",
    "    \"NBR_APT\",\n",
    "    \"METRO_X\",\n",
    "    \"METRO_Y\",\n",
    "    \"METRO_Z\",\n",
    "    \"APT_FLG\",\n",
    "    \"DROP_OFF_TIME\",\n",
    "    \"EVAL_FLG\",\n",
    "]\n",
    "DEPENDENT_VAR = \"DROP_OFF_TIME\"\n",
    "\n",
    "# Define DataCard attributes (see examples dir for more detailed information)\n",
    "DATA_NAME = \"tarp_drop_off\"\n",
    "TEAM = \"SPMS\"\n",
    "USER_EMAIL = \"steven.forrester@shipt.com\"\n",
    "DATA_SPLITS = [\n",
    "    {\"label\": \"train\", \"column\": \"EVAL_FLG\", \"column_value\": 0},\n",
    "    {\"label\": \"test\", \"column\": \"EVAL_FLG\", \"column_value\": 1},\n",
    "]\n",
    "\n",
    "data_card = DataCard(\n",
    "    data=dataframe[features],\n",
    "    name=DATA_NAME,\n",
    "    team=TEAM,\n",
    "    user_email=USER_EMAIL,\n",
    "    data_splits=DATA_SPLITS,\n",
    "    dependent_vars=[DEPENDENT_VAR],\n",
    "\n",
    ")\n",
    "\n",
    "data_registry.register_card(card=data_card)"
   ]
  },
  {
   "cell_type": "code",
   "execution_count": 118,
   "id": "0e95fed8-502d-4089-acd8-3b274df69013",
   "metadata": {
    "tags": []
   },
   "outputs": [
    {
     "name": "stdout",
     "output_type": "stream",
     "text": [
      "{\"level\": \"INFO\", \"message\": \"Registering lightgbm onnx converter\", \"timestamp\": \"2023-02-09T17:23:23.983750Z\", \"app_env\": \"development\", \"host\": null, \"pid\": 807773}\n",
      "{\"level\": \"INFO\", \"message\": \"Validating converted onnx model\", \"timestamp\": \"2023-02-09T17:23:24.325509Z\", \"app_env\": \"development\", \"host\": null, \"pid\": 807773}\n",
      "{\"level\": \"INFO\", \"message\": \"Onnx model validated\", \"timestamp\": \"2023-02-09T17:23:24.351396Z\", \"app_env\": \"development\", \"host\": null, \"pid\": 807773}\n",
      "{\"message\": \"MODEL_REGISTRY: tarp_lgb registered as version 8\", \"timestamp\": \"2023-02-09T17:23:24.382439Z\", \"app_env\": \"development\", \"level\": \"INFO\"}\n"
     ]
    }
   ],
   "source": [
    "from lightgbm import LGBMRegressor\n",
    "\n",
    "model_registry = CardRegistry(registry_name=\"model\", connection_client=local_conn) #load the model registry\n",
    "\n",
    "data_splits = data_card.split_data() # get the data splits defined by split logic (data_card.data_splits)\n",
    "\n",
    "# Prepare train data\n",
    "data_splits.train.pop(\"EVAL_FLG\") # pop off eval flg\n",
    "y_train = data_splits.train.pop(\"DROP_OFF_TIME\") # get train target\n",
    "\n",
    "# Prepare test data\n",
    "data_splits.test.pop(\"EVAL_FLG\") # pop off eval flg\n",
    "y_test = data_splits.test.pop(\"DROP_OFF_TIME\") # get test target\n",
    "\n",
    "# fit model\n",
    "lgb_model = LGBMRegressor()\n",
    "lgb_model.fit(data_splits.train, y_train)\n",
    "\n",
    "model_card = ModelCard(\n",
    "    trained_model=lgb_model,\n",
    "    sample_input_data=data_splits.train[:1],\n",
    "    name=\"tarp_lgb\",\n",
    "    team=\"SPMS\",\n",
    "    user_email=\"steven.forrester@shipt.com\",\n",
    "    data_card_uid=data_card.uid\n",
    ")\n",
    "\n",
    "model_registry.register_card(card=model_card)"
   ]
  },
  {
   "cell_type": "code",
   "execution_count": 119,
   "id": "3c68fcc4-e77f-47f3-82f4-cc564e8a355f",
   "metadata": {
    "tags": []
   },
   "outputs": [],
   "source": [
    "onnx_model = model_card.onnx_model()"
   ]
  },
  {
   "cell_type": "code",
   "execution_count": 120,
   "id": "af2b8a5e-19b6-4265-a86c-033afa251e55",
   "metadata": {
    "tags": []
   },
   "outputs": [
    {
     "data": {
      "text/plain": [
       "{'title': 'Features',\n",
       " 'type': 'object',\n",
       " 'properties': {'NBR_ADDRESSES': {'title': 'Nbr Addresses', 'type': 'integer'},\n",
       "  'NBR_ORDERS': {'title': 'Nbr Orders', 'type': 'integer'},\n",
       "  'NBR_RX': {'title': 'Nbr Rx', 'type': 'integer'},\n",
       "  'NBR_APT': {'title': 'Nbr Apt', 'type': 'integer'},\n",
       "  'METRO_X': {'title': 'Metro X', 'type': 'number'},\n",
       "  'METRO_Y': {'title': 'Metro Y', 'type': 'number'},\n",
       "  'METRO_Z': {'title': 'Metro Z', 'type': 'number'},\n",
       "  'APT_FLG': {'title': 'Apt Flg', 'type': 'integer'}},\n",
       " 'required': ['NBR_ADDRESSES',\n",
       "  'NBR_ORDERS',\n",
       "  'NBR_RX',\n",
       "  'NBR_APT',\n",
       "  'METRO_X',\n",
       "  'METRO_Y',\n",
       "  'METRO_Z',\n",
       "  'APT_FLG']}"
      ]
     },
     "execution_count": 120,
     "metadata": {},
     "output_type": "execute_result"
    }
   ],
   "source": [
    "onnx_model.input_sig.schema()"
   ]
  },
  {
   "cell_type": "code",
   "execution_count": 103,
   "id": "f9dd6c53-744f-4445-a3b2-db50df7aeaf5",
   "metadata": {
    "tags": []
   },
   "outputs": [
    {
     "data": {
      "text/plain": [
       "{'title': 'Features',\n",
       " 'type': 'object',\n",
       " 'properties': {'variable': {'title': 'Variable', 'type': 'number'}},\n",
       " 'required': ['variable']}"
      ]
     },
     "execution_count": 103,
     "metadata": {},
     "output_type": "execute_result"
    }
   ],
   "source": [
    "onnx_model.output_sig.schema()"
   ]
  },
  {
   "cell_type": "markdown",
   "id": "ad0af592-c594-4f01-ab8b-b9521a52b003",
   "metadata": {},
   "source": [
    "### Pipeline Viz"
   ]
  },
  {
   "cell_type": "code",
   "execution_count": 121,
   "id": "9d9ec979-a38a-44cd-9d1f-f3817b419819",
   "metadata": {
    "tags": []
   },
   "outputs": [],
   "source": [
    "from opsml.registry import PipelineLoader\n",
    "loader = PipelineLoader(pipeline_card_uid=\"afb7426bc42d4b4fb1ae14b44cee63f0\", connection_type=\"local\")"
   ]
  },
  {
   "cell_type": "code",
   "execution_count": 122,
   "id": "7789f8ec-61a3-4e84-a05d-c862052945dc",
   "metadata": {
    "tags": []
   },
   "outputs": [
    {
     "data": {
      "image/svg+xml": [
       "<?xml version=\"1.0\" encoding=\"UTF-8\" standalone=\"no\"?>\n",
       "<!DOCTYPE svg PUBLIC \"-//W3C//DTD SVG 1.1//EN\"\n",
       " \"http://www.w3.org/Graphics/SVG/1.1/DTD/svg11.dtd\">\n",
       "<!-- Generated by graphviz version 2.43.0 (0)\n",
       " -->\n",
       "<!-- Title: test_pipeline Pages: 1 -->\n",
       "<svg width=\"599pt\" height=\"369pt\"\n",
       " viewBox=\"0.00 0.00 599.00 368.50\" xmlns=\"http://www.w3.org/2000/svg\" xmlns:xlink=\"http://www.w3.org/1999/xlink\">\n",
       "<g id=\"graph0\" class=\"graph\" transform=\"scale(1 1) rotate(0) translate(4 364.5)\">\n",
       "<title>test_pipeline</title>\n",
       "<polygon fill=\"white\" stroke=\"transparent\" points=\"-4,4 -4,-364.5 595,-364.5 595,4 -4,4\"/>\n",
       "<text text-anchor=\"middle\" x=\"295.5\" y=\"-7.8\" font-family=\"arial\" font-size=\"14.00\">test pipeline</text>\n",
       "<!-- test_data_one -->\n",
       "<g id=\"node1\" class=\"node\">\n",
       "<title>test_data_one</title>\n",
       "<path fill=\"#a7ebc4\" stroke=\"black\" d=\"M90,-306.5C90,-306.5 12,-306.5 12,-306.5 6,-306.5 0,-300.5 0,-294.5 0,-294.5 0,-282.5 0,-282.5 0,-276.5 6,-270.5 12,-270.5 12,-270.5 90,-270.5 90,-270.5 96,-270.5 102,-276.5 102,-282.5 102,-282.5 102,-294.5 102,-294.5 102,-300.5 96,-306.5 90,-306.5\"/>\n",
       "<text text-anchor=\"middle\" x=\"51\" y=\"-284.8\" font-family=\"arial\" font-size=\"14.00\">test_data_one</text>\n",
       "</g>\n",
       "<!-- test_experiment -->\n",
       "<g id=\"node3\" class=\"node\">\n",
       "<title>test_experiment</title>\n",
       "<path fill=\"#a7ebc4\" stroke=\"black\" d=\"M408.5,-246.5C408.5,-246.5 319.5,-246.5 319.5,-246.5 313.5,-246.5 307.5,-240.5 307.5,-234.5 307.5,-234.5 307.5,-222.5 307.5,-222.5 307.5,-216.5 313.5,-210.5 319.5,-210.5 319.5,-210.5 408.5,-210.5 408.5,-210.5 414.5,-210.5 420.5,-216.5 420.5,-222.5 420.5,-222.5 420.5,-234.5 420.5,-234.5 420.5,-240.5 414.5,-246.5 408.5,-246.5\"/>\n",
       "<text text-anchor=\"middle\" x=\"364\" y=\"-224.8\" font-family=\"arial\" font-size=\"14.00\">test_experiment</text>\n",
       "</g>\n",
       "<!-- test_data_one&#45;&gt;test_experiment -->\n",
       "<g id=\"edge4\" class=\"edge\">\n",
       "<title>test_data_one&#45;&gt;test_experiment</title>\n",
       "<path fill=\"none\" stroke=\"black\" d=\"M102.12,-286.98C143.12,-284.91 202.4,-280.03 253,-268.5 272.57,-264.04 293.4,-257.07 311.62,-250.19\"/>\n",
       "<polygon fill=\"black\" stroke=\"black\" points=\"313.1,-253.37 321.17,-246.5 310.58,-246.84 313.1,-253.37\"/>\n",
       "</g>\n",
       "<!-- test_model_one -->\n",
       "<g id=\"node4\" class=\"node\">\n",
       "<title>test_model_one</title>\n",
       "<path fill=\"#a7ebc4\" stroke=\"black\" d=\"M240,-352.5C240,-352.5 151,-352.5 151,-352.5 145,-352.5 139,-346.5 139,-340.5 139,-340.5 139,-328.5 139,-328.5 139,-322.5 145,-316.5 151,-316.5 151,-316.5 240,-316.5 240,-316.5 246,-316.5 252,-322.5 252,-328.5 252,-328.5 252,-340.5 252,-340.5 252,-346.5 246,-352.5 240,-352.5\"/>\n",
       "<text text-anchor=\"middle\" x=\"195.5\" y=\"-330.8\" font-family=\"arial\" font-size=\"14.00\">test_model_one</text>\n",
       "</g>\n",
       "<!-- test_data_one&#45;&gt;test_model_one -->\n",
       "<g id=\"edge9\" class=\"edge\">\n",
       "<title>test_data_one&#45;&gt;test_model_one</title>\n",
       "<path fill=\"none\" stroke=\"black\" d=\"M102.24,-304.72C110.95,-307.53 120.12,-310.49 129.16,-313.41\"/>\n",
       "<polygon fill=\"black\" stroke=\"black\" points=\"128.3,-316.81 138.89,-316.55 130.45,-310.15 128.3,-316.81\"/>\n",
       "</g>\n",
       "<!-- test_data_one_attr -->\n",
       "<g id=\"node6\" class=\"node\">\n",
       "<title>test_data_one_attr</title>\n",
       "<polygon fill=\"#dcd3e6\" stroke=\"black\" points=\"253,-260 250,-264 229,-264 226,-260 138,-260 138,-197 253,-197 253,-260\"/>\n",
       "<text text-anchor=\"middle\" x=\"195.5\" y=\"-248\" font-family=\"arial\" font-size=\"10.00\">name=test_data_one</text>\n",
       "<text text-anchor=\"middle\" x=\"195.5\" y=\"-237\" font-family=\"arial\" font-size=\"10.00\">team=mlops</text>\n",
       "<text text-anchor=\"middle\" x=\"195.5\" y=\"-226\" font-family=\"arial\" font-size=\"10.00\">version=1</text>\n",
       "<text text-anchor=\"middle\" x=\"195.5\" y=\"-215\" font-family=\"arial\" font-size=\"10.00\">data_type=ndarray</text>\n",
       "<text text-anchor=\"middle\" x=\"195.5\" y=\"-204\" font-family=\"arial\" font-size=\"10.00\">dependent_vars=None</text>\n",
       "</g>\n",
       "<!-- test_data_one&#45;&gt;test_data_one_attr -->\n",
       "<g id=\"edge1\" class=\"edge\">\n",
       "<title>test_data_one&#45;&gt;test_data_one_attr</title>\n",
       "<path fill=\"none\" stroke=\"black\" d=\"M94.75,-270.5C108.28,-264.8 123.45,-258.42 137.79,-252.38\"/>\n",
       "</g>\n",
       "<!-- test_data_two -->\n",
       "<g id=\"node2\" class=\"node\">\n",
       "<title>test_data_two</title>\n",
       "<path fill=\"#a7ebc4\" stroke=\"black\" d=\"M89.5,-140.5C89.5,-140.5 12.5,-140.5 12.5,-140.5 6.5,-140.5 0.5,-134.5 0.5,-128.5 0.5,-128.5 0.5,-116.5 0.5,-116.5 0.5,-110.5 6.5,-104.5 12.5,-104.5 12.5,-104.5 89.5,-104.5 89.5,-104.5 95.5,-104.5 101.5,-110.5 101.5,-116.5 101.5,-116.5 101.5,-128.5 101.5,-128.5 101.5,-134.5 95.5,-140.5 89.5,-140.5\"/>\n",
       "<text text-anchor=\"middle\" x=\"51\" y=\"-118.8\" font-family=\"arial\" font-size=\"14.00\">test_data_two</text>\n",
       "</g>\n",
       "<!-- test_data_two&#45;&gt;test_experiment -->\n",
       "<g id=\"edge5\" class=\"edge\">\n",
       "<title>test_data_two&#45;&gt;test_experiment</title>\n",
       "<path fill=\"none\" stroke=\"black\" d=\"M101.59,-138.26C151.45,-154.16 224.86,-177.71 253,-187.5 270.38,-193.55 289.18,-200.43 306.24,-206.8\"/>\n",
       "<polygon fill=\"black\" stroke=\"black\" points=\"305.47,-210.25 316.06,-210.49 307.93,-203.7 305.47,-210.25\"/>\n",
       "</g>\n",
       "<!-- test_model_two -->\n",
       "<g id=\"node5\" class=\"node\">\n",
       "<title>test_model_two</title>\n",
       "<path fill=\"#a7ebc4\" stroke=\"black\" d=\"M239.5,-140.5C239.5,-140.5 151.5,-140.5 151.5,-140.5 145.5,-140.5 139.5,-134.5 139.5,-128.5 139.5,-128.5 139.5,-116.5 139.5,-116.5 139.5,-110.5 145.5,-104.5 151.5,-104.5 151.5,-104.5 239.5,-104.5 239.5,-104.5 245.5,-104.5 251.5,-110.5 251.5,-116.5 251.5,-116.5 251.5,-128.5 251.5,-128.5 251.5,-134.5 245.5,-140.5 239.5,-140.5\"/>\n",
       "<text text-anchor=\"middle\" x=\"195.5\" y=\"-118.8\" font-family=\"arial\" font-size=\"14.00\">test_model_two</text>\n",
       "</g>\n",
       "<!-- test_data_two&#45;&gt;test_model_two -->\n",
       "<g id=\"edge11\" class=\"edge\">\n",
       "<title>test_data_two&#45;&gt;test_model_two</title>\n",
       "<path fill=\"none\" stroke=\"black\" d=\"M101.84,-122.5C110.59,-122.5 119.81,-122.5 128.91,-122.5\"/>\n",
       "<polygon fill=\"black\" stroke=\"black\" points=\"129.09,-126 139.09,-122.5 129.09,-119 129.09,-126\"/>\n",
       "</g>\n",
       "<!-- test_data_two_attr -->\n",
       "<g id=\"node7\" class=\"node\">\n",
       "<title>test_data_two_attr</title>\n",
       "<polygon fill=\"#dcd3e6\" stroke=\"black\" points=\"253,-86 250,-90 229,-90 226,-86 138,-86 138,-23 253,-23 253,-86\"/>\n",
       "<text text-anchor=\"middle\" x=\"195.5\" y=\"-74\" font-family=\"arial\" font-size=\"10.00\">name=test_data_two</text>\n",
       "<text text-anchor=\"middle\" x=\"195.5\" y=\"-63\" font-family=\"arial\" font-size=\"10.00\">team=mlops</text>\n",
       "<text text-anchor=\"middle\" x=\"195.5\" y=\"-52\" font-family=\"arial\" font-size=\"10.00\">version=1</text>\n",
       "<text text-anchor=\"middle\" x=\"195.5\" y=\"-41\" font-family=\"arial\" font-size=\"10.00\">data_type=ndarray</text>\n",
       "<text text-anchor=\"middle\" x=\"195.5\" y=\"-30\" font-family=\"arial\" font-size=\"10.00\">dependent_vars=None</text>\n",
       "</g>\n",
       "<!-- test_data_two&#45;&gt;test_data_two_attr -->\n",
       "<g id=\"edge2\" class=\"edge\">\n",
       "<title>test_data_two&#45;&gt;test_data_two_attr</title>\n",
       "<path fill=\"none\" stroke=\"black\" d=\"M89.81,-104.46C104.57,-97.41 121.81,-89.19 137.98,-81.47\"/>\n",
       "</g>\n",
       "<!-- test_experiment_attr -->\n",
       "<g id=\"node8\" class=\"node\">\n",
       "<title>test_experiment_attr</title>\n",
       "<polygon fill=\"#dcd3e6\" stroke=\"black\" points=\"591,-246.5 588,-250.5 567,-250.5 564,-246.5 475,-246.5 475,-210.5 591,-210.5 591,-246.5\"/>\n",
       "<text text-anchor=\"middle\" x=\"533\" y=\"-231.5\" font-family=\"arial\" font-size=\"10.00\">model_two mape=20.0</text>\n",
       "<text text-anchor=\"middle\" x=\"533\" y=\"-220.5\" font-family=\"arial\" font-size=\"10.00\">model_one mape=10.0</text>\n",
       "</g>\n",
       "<!-- test_experiment&#45;&gt;test_experiment_attr -->\n",
       "<g id=\"edge3\" class=\"edge\">\n",
       "<title>test_experiment&#45;&gt;test_experiment_attr</title>\n",
       "<path fill=\"none\" stroke=\"black\" d=\"M420.61,-228.5C438.07,-228.5 457.36,-228.5 474.92,-228.5\"/>\n",
       "</g>\n",
       "<!-- test_model_one&#45;&gt;test_experiment -->\n",
       "<g id=\"edge6\" class=\"edge\">\n",
       "<title>test_model_one&#45;&gt;test_experiment</title>\n",
       "<path fill=\"none\" stroke=\"black\" d=\"M229.32,-316.48C237.14,-312.02 245.43,-307.18 253,-302.5 278.81,-286.54 307.21,-267.4 328.69,-252.58\"/>\n",
       "<polygon fill=\"black\" stroke=\"black\" points=\"330.92,-255.29 337.14,-246.72 326.93,-249.53 330.92,-255.29\"/>\n",
       "</g>\n",
       "<!-- test_model_one_attr -->\n",
       "<g id=\"node9\" class=\"node\">\n",
       "<title>test_model_one_attr</title>\n",
       "<polygon fill=\"#dcd3e6\" stroke=\"black\" points=\"439,-360.5 436,-364.5 415,-364.5 412,-360.5 289,-360.5 289,-308.5 439,-308.5 439,-360.5\"/>\n",
       "<text text-anchor=\"middle\" x=\"364\" y=\"-348.5\" font-family=\"arial\" font-size=\"10.00\">name=test_model_one</text>\n",
       "<text text-anchor=\"middle\" x=\"364\" y=\"-337.5\" font-family=\"arial\" font-size=\"10.00\">team=mlops</text>\n",
       "<text text-anchor=\"middle\" x=\"364\" y=\"-326.5\" font-family=\"arial\" font-size=\"10.00\">version=3</text>\n",
       "<text text-anchor=\"middle\" x=\"364\" y=\"-315.5\" font-family=\"arial\" font-size=\"10.00\">model_type=sklearn_estimator</text>\n",
       "</g>\n",
       "<!-- test_model_one&#45;&gt;test_model_one_attr -->\n",
       "<g id=\"edge8\" class=\"edge\">\n",
       "<title>test_model_one&#45;&gt;test_model_one_attr</title>\n",
       "<path fill=\"none\" stroke=\"black\" d=\"M252.41,-334.5C264.12,-334.5 276.65,-334.5 288.91,-334.5\"/>\n",
       "</g>\n",
       "<!-- test_model_two&#45;&gt;test_experiment -->\n",
       "<g id=\"edge7\" class=\"edge\">\n",
       "<title>test_model_two&#45;&gt;test_experiment</title>\n",
       "<path fill=\"none\" stroke=\"black\" d=\"M229.32,-140.52C237.14,-144.98 245.43,-149.82 253,-154.5 278.81,-170.46 307.21,-189.6 328.69,-204.42\"/>\n",
       "<polygon fill=\"black\" stroke=\"black\" points=\"326.93,-207.47 337.14,-210.28 330.92,-201.71 326.93,-207.47\"/>\n",
       "</g>\n",
       "<!-- test_model_two_attr -->\n",
       "<g id=\"node10\" class=\"node\">\n",
       "<title>test_model_two_attr</title>\n",
       "<polygon fill=\"#dcd3e6\" stroke=\"black\" points=\"439,-148.5 436,-152.5 415,-152.5 412,-148.5 289,-148.5 289,-96.5 439,-96.5 439,-148.5\"/>\n",
       "<text text-anchor=\"middle\" x=\"364\" y=\"-136.5\" font-family=\"arial\" font-size=\"10.00\">name=test_model_two</text>\n",
       "<text text-anchor=\"middle\" x=\"364\" y=\"-125.5\" font-family=\"arial\" font-size=\"10.00\">team=mlops</text>\n",
       "<text text-anchor=\"middle\" x=\"364\" y=\"-114.5\" font-family=\"arial\" font-size=\"10.00\">version=3</text>\n",
       "<text text-anchor=\"middle\" x=\"364\" y=\"-103.5\" font-family=\"arial\" font-size=\"10.00\">model_type=sklearn_estimator</text>\n",
       "</g>\n",
       "<!-- test_model_two&#45;&gt;test_model_two_attr -->\n",
       "<g id=\"edge10\" class=\"edge\">\n",
       "<title>test_model_two&#45;&gt;test_model_two_attr</title>\n",
       "<path fill=\"none\" stroke=\"black\" d=\"M251.94,-122.5C263.77,-122.5 276.44,-122.5 288.84,-122.5\"/>\n",
       "</g>\n",
       "</g>\n",
       "</svg>\n"
      ],
      "text/plain": [
       "<graphviz.graphs.Digraph at 0x7fce986ce4c0>"
      ]
     },
     "execution_count": 122,
     "metadata": {},
     "output_type": "execute_result"
    }
   ],
   "source": [
    "loader.visualize()"
   ]
  },
  {
   "cell_type": "code",
   "execution_count": 123,
   "id": "c3fd0116-55b6-4863-bfc1-00a5390d9efc",
   "metadata": {
    "tags": []
   },
   "outputs": [],
   "source": [
    "card_deck = loader.load_cards()"
   ]
  },
  {
   "cell_type": "code",
   "execution_count": 125,
   "id": "ca255b52-2aa9-4a86-a158-86841ce35efb",
   "metadata": {
    "tags": []
   },
   "outputs": [
    {
     "data": {
      "text/plain": [
       "ExperimentCard(name='test_experiment', team='mlops', user_email='mlops.com', version=7, uid='33f814bdb8e04144b9754b2c3d0cbb91', data_card_uids=['4e6bb271c33f4e7594fb269767ead314', '04bca458445c4ee1ab84742a2bd54e8e'], model_card_uids=['adb54432b2a04048aa8beac28e75d855', 'd3a1f8d692ab440e8a11c4f4cd157af8'], pipeline_card_uid=None, metrics={'model_two mape': 20.0, 'model_one mape': 10.0}, artifacts={}, artifact_uris={}, storage_client=<opsml.registry.cards.storage_system.LocalStorageClient object at 0x7fce586f87c0>)"
      ]
     },
     "execution_count": 125,
     "metadata": {},
     "output_type": "execute_result"
    }
   ],
   "source": [
    "card_deck['test_experiment']"
   ]
  },
  {
   "cell_type": "code",
   "execution_count": 39,
   "id": "b38a6a40-cd74-433c-885d-15495fc60325",
   "metadata": {
    "tags": []
   },
   "outputs": [
    {
     "data": {
      "text/plain": [
       "{'title': 'Features',\n",
       " 'type': 'object',\n",
       " 'properties': {'inputs': {'title': 'Inputs',\n",
       "   'type': 'array',\n",
       "   'items': {'type': 'number'}}},\n",
       " 'required': ['inputs']}"
      ]
     },
     "execution_count": 39,
     "metadata": {},
     "output_type": "execute_result"
    }
   ],
   "source": [
    "onnx_model = card_deck[\"test_model_two\"].onnx_model()\n",
    "onnx_model.input_sig.schema()"
   ]
  },
  {
   "cell_type": "code",
   "execution_count": null,
   "id": "1b3db59d-66dd-4b6c-bdba-f09df71348b9",
   "metadata": {},
   "outputs": [],
   "source": []
  }
 ],
 "metadata": {
  "kernelspec": {
   "display_name": "Python 3 (ipykernel)",
   "language": "python",
   "name": "python3"
  },
  "language_info": {
   "codemirror_mode": {
    "name": "ipython",
    "version": 3
   },
   "file_extension": ".py",
   "mimetype": "text/x-python",
   "name": "python",
   "nbconvert_exporter": "python",
   "pygments_lexer": "ipython3",
   "version": "3.9.2"
  }
 },
 "nbformat": 4,
 "nbformat_minor": 5
}
