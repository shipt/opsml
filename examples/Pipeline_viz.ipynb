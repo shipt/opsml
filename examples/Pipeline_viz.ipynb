{
 "cells": [
  {
   "cell_type": "code",
   "execution_count": 1,
   "metadata": {},
   "outputs": [],
   "source": [
    "import numpy as np\n",
    "from sklearn.linear_model import LinearRegression\n",
    "\n",
    "from opsml_artifacts import (\n",
    "    CardRegistry,\n",
    "    DataCard,\n",
    "    ExperimentCard,\n",
    "    ModelCard,\n",
    "    PipelineCard,\n",
    ")\n",
    "\n",
    "team = \"mlops\"\n",
    "user_email = \"mlops.com\"\n",
    "pipeline_code_uri = \"test_pipe_uri\"\n"
   ]
  },
  {
   "cell_type": "code",
   "execution_count": 10,
   "metadata": {},
   "outputs": [
    {
     "name": "stdout",
     "output_type": "stream",
     "text": [
      "{\"message\": \"DATA_REGISTRY: test_data1 registered as version 4\", \"timestamp\": \"2023-02-09T02:00:17.306880Z\", \"app_env\": \"development\", \"level\": \"INFO\"}\n",
      "{\"message\": \"DATA_REGISTRY: test_data2 registered as version 4\", \"timestamp\": \"2023-02-09T02:00:17.322805Z\", \"app_env\": \"development\", \"level\": \"INFO\"}\n"
     ]
    }
   ],
   "source": [
    "data_registry = CardRegistry(registry_name=\"data\", connection_type=\"local\")\n",
    "model_registry = CardRegistry(registry_name=\"model\", connection_type=\"local\")\n",
    "experiment_registry = CardRegistry(registry_name=\"experiment\", connection_type=\"local\")\n",
    "pipeline_registry = CardRegistry(registry_name=\"pipeline\", connection_type=\"local\")\n",
    "\n",
    "X = np.array([[1, 1], [1, 2], [2, 2], [2, 3]])\n",
    "y = np.dot(X, np.array([1, 2])) + 3\n",
    "reg = LinearRegression().fit(X, y)\n",
    "\n",
    "#### Create DataCard\n",
    "data_card_one = DataCard(\n",
    "    data=X,\n",
    "    name=\"test_data1\",\n",
    "    team=team,\n",
    "    user_email=user_email,\n",
    ")\n",
    "data_registry.register_card(card=data_card_one)\n",
    "\n",
    "#### Create DataCard\n",
    "data_card_two = DataCard(\n",
    "    data=X,\n",
    "    name=\"test_data2\",\n",
    "    team=team,\n",
    "    user_email=user_email,\n",
    ")\n",
    "data_registry.register_card(card=data_card_two)"
   ]
  },
  {
   "cell_type": "code",
   "execution_count": 11,
   "metadata": {},
   "outputs": [
    {
     "name": "stdout",
     "output_type": "stream",
     "text": [
      "{\"level\": \"INFO\", \"message\": \"Validating converted onnx model\", \"timestamp\": \"2023-02-09T02:00:25.174620Z\", \"app_env\": \"development\", \"host\": null, \"pid\": 747927}\n",
      "{\"level\": \"INFO\", \"message\": \"Onnx model validated\", \"timestamp\": \"2023-02-09T02:00:25.177387Z\", \"app_env\": \"development\", \"host\": null, \"pid\": 747927}\n",
      "{\"message\": \"MODEL_REGISTRY: test_model_one registered as version 2\", \"timestamp\": \"2023-02-09T02:00:25.193750Z\", \"app_env\": \"development\", \"level\": \"INFO\"}\n",
      "{\"level\": \"INFO\", \"message\": \"Validating converted onnx model\", \"timestamp\": \"2023-02-09T02:00:25.208135Z\", \"app_env\": \"development\", \"host\": null, \"pid\": 747927}\n",
      "{\"level\": \"INFO\", \"message\": \"Onnx model validated\", \"timestamp\": \"2023-02-09T02:00:25.210418Z\", \"app_env\": \"development\", \"host\": null, \"pid\": 747927}\n",
      "{\"message\": \"MODEL_REGISTRY: test_model_two registered as version 2\", \"timestamp\": \"2023-02-09T02:00:25.225621Z\", \"app_env\": \"development\", \"level\": \"INFO\"}\n",
      "{\"level\": \"INFO\", \"message\": \"Validating converted onnx model\", \"timestamp\": \"2023-02-09T02:00:25.240238Z\", \"app_env\": \"development\", \"host\": null, \"pid\": 747927}\n",
      "{\"level\": \"INFO\", \"message\": \"Onnx model validated\", \"timestamp\": \"2023-02-09T02:00:25.242530Z\", \"app_env\": \"development\", \"host\": null, \"pid\": 747927}\n",
      "{\"message\": \"MODEL_REGISTRY: test_model_three registered as version 2\", \"timestamp\": \"2023-02-09T02:00:25.259764Z\", \"app_env\": \"development\", \"level\": \"INFO\"}\n",
      "{\"level\": \"INFO\", \"message\": \"Validating converted onnx model\", \"timestamp\": \"2023-02-09T02:00:25.273482Z\", \"app_env\": \"development\", \"host\": null, \"pid\": 747927}\n",
      "{\"level\": \"INFO\", \"message\": \"Onnx model validated\", \"timestamp\": \"2023-02-09T02:00:25.275765Z\", \"app_env\": \"development\", \"host\": null, \"pid\": 747927}\n",
      "{\"message\": \"MODEL_REGISTRY: test_model_four registered as version 2\", \"timestamp\": \"2023-02-09T02:00:25.295078Z\", \"app_env\": \"development\", \"level\": \"INFO\"}\n"
     ]
    }
   ],
   "source": [
    "##### ModelCard\n",
    "model_card_one = ModelCard(\n",
    "    trained_model=reg,\n",
    "    sample_input_data=X[:1],\n",
    "    name=\"test_model_one\",\n",
    "    team=team,\n",
    "    user_email=user_email,\n",
    "    data_card_uid=data_card_one.uid,\n",
    ")\n",
    "model_registry.register_card(model_card_one)\n",
    "\n",
    "model_card_two = ModelCard(\n",
    "    trained_model=reg,\n",
    "    sample_input_data=X[:1],\n",
    "    name=\"test_model_two\",\n",
    "    team=team,\n",
    "    user_email=user_email,\n",
    "    data_card_uid=data_card_two.uid,\n",
    ")\n",
    "model_registry.register_card(model_card_two)\n",
    "\n",
    "model_card_three = ModelCard(\n",
    "    trained_model=reg,\n",
    "    sample_input_data=X[:1],\n",
    "    name=\"test_model_three\",\n",
    "    team=team,\n",
    "    user_email=user_email,\n",
    "    data_card_uid=data_card_two.uid,\n",
    ")\n",
    "model_registry.register_card(model_card_three)\n",
    "\n",
    "model_card_four = ModelCard(\n",
    "    trained_model=reg,\n",
    "    sample_input_data=X[:1],\n",
    "    name=\"test_model_four\",\n",
    "    team=team,\n",
    "    user_email=user_email,\n",
    "    data_card_uid=data_card_two.uid,\n",
    ")\n",
    "model_registry.register_card(model_card_four)"
   ]
  },
  {
   "cell_type": "code",
   "execution_count": 12,
   "metadata": {},
   "outputs": [
    {
     "name": "stdout",
     "output_type": "stream",
     "text": [
      "{\"message\": \"EXPERIMENT_REGISTRY: test_experiment registered as version 6\", \"timestamp\": \"2023-02-09T02:00:39.434043Z\", \"app_env\": \"development\", \"level\": \"INFO\"}\n"
     ]
    }
   ],
   "source": [
    "##### ExperimentCard\n",
    "exp_card = ExperimentCard(\n",
    "    name=\"test_experiment\",\n",
    "    team=team,\n",
    "    user_email=user_email,\n",
    "    data_card_uids=[data_card_one.uid, data_card_two.uid],\n",
    "    model_card_uids=[model_card_one.uid, model_card_two.uid, model_card_three.uid, model_card_four.uid],\n",
    ")\n",
    "exp_card.add_metric(\"model_one mape\", 10)\n",
    "exp_card.add_metric(\"model_two mape\", 20)\n",
    "exp_card.add_metric(\"model_three mape\", 30)\n",
    "exp_card.add_metric(\"model_four mape\", 40)\n",
    "experiment_registry.register_card(card=exp_card)"
   ]
  },
  {
   "cell_type": "code",
   "execution_count": 13,
   "metadata": {},
   "outputs": [
    {
     "name": "stdout",
     "output_type": "stream",
     "text": [
      "{\"message\": \"PIPELINE_REGISTRY: test_pipeline registered as version 6\", \"timestamp\": \"2023-02-09T02:00:52.349056Z\", \"app_env\": \"development\", \"level\": \"INFO\"}\n"
     ]
    }
   ],
   "source": [
    "#### PipelineCard\n",
    "pipeline_card = PipelineCard(\n",
    "    name=\"test_pipeline\",\n",
    "    team=team,\n",
    "    user_email=user_email,\n",
    "    data_card_uids={\n",
    "        data_card_one.name: data_card_one.uid,\n",
    "        data_card_two.name: data_card_two.uid,\n",
    "    },\n",
    "    model_card_uids={\n",
    "        model_card_one.name: model_card_one.uid,\n",
    "        model_card_two.name: model_card_two.uid,\n",
    "        model_card_three.name: model_card_three.uid,\n",
    "        model_card_four.name: model_card_four.uid,\n",
    "    },\n",
    "    experiment_card_uids={exp_card.name: exp_card.uid},\n",
    ")\n",
    "pipeline_registry.register_card(card=pipeline_card)\n"
   ]
  },
  {
   "cell_type": "code",
   "execution_count": 14,
   "metadata": {},
   "outputs": [
    {
     "data": {
      "text/html": [
       "<div>\n",
       "<style scoped>\n",
       "    .dataframe tbody tr th:only-of-type {\n",
       "        vertical-align: middle;\n",
       "    }\n",
       "\n",
       "    .dataframe tbody tr th {\n",
       "        vertical-align: top;\n",
       "    }\n",
       "\n",
       "    .dataframe thead th {\n",
       "        text-align: right;\n",
       "    }\n",
       "</style>\n",
       "<table border=\"1\" class=\"dataframe\">\n",
       "  <thead>\n",
       "    <tr style=\"text-align: right;\">\n",
       "      <th></th>\n",
       "      <th>uid</th>\n",
       "      <th>date</th>\n",
       "      <th>timestamp</th>\n",
       "      <th>app_env</th>\n",
       "      <th>name</th>\n",
       "      <th>team</th>\n",
       "      <th>version</th>\n",
       "      <th>user_email</th>\n",
       "      <th>pipeline_code_uri</th>\n",
       "      <th>data_card_uids</th>\n",
       "      <th>model_card_uids</th>\n",
       "      <th>experiment_card_uids</th>\n",
       "    </tr>\n",
       "  </thead>\n",
       "  <tbody>\n",
       "    <tr>\n",
       "      <th>0</th>\n",
       "      <td>3e98331bca33416382a601c37642b10e</td>\n",
       "      <td>2023-02-09</td>\n",
       "      <td>1675907684328</td>\n",
       "      <td>development</td>\n",
       "      <td>test_pipeline</td>\n",
       "      <td>mlops</td>\n",
       "      <td>6</td>\n",
       "      <td>mlops.com</td>\n",
       "      <td>None</td>\n",
       "      <td>{'test_data1': '643e870c854f4d1b84dfd94a138456...</td>\n",
       "      <td>{'test_model_one': '424b1c52599f4647bbea4f1bfa...</td>\n",
       "      <td>{'test_experiment': 'eb9bd413cc3a4c68adc932329...</td>\n",
       "    </tr>\n",
       "    <tr>\n",
       "      <th>1</th>\n",
       "      <td>f6bb623c23d545eb9155283636f490bb</td>\n",
       "      <td>2023-02-09</td>\n",
       "      <td>1675907684328</td>\n",
       "      <td>development</td>\n",
       "      <td>test_pipeline</td>\n",
       "      <td>mlops</td>\n",
       "      <td>5</td>\n",
       "      <td>mlops.com</td>\n",
       "      <td>None</td>\n",
       "      <td>{'test_data1': '6402df6d227b4077b28f54061e5839...</td>\n",
       "      <td>{'test_model_one': 'c078a1a862244b1c8a2997f16c...</td>\n",
       "      <td>{'test_experiment': '20c463cd81c04822920d556d4...</td>\n",
       "    </tr>\n",
       "    <tr>\n",
       "      <th>2</th>\n",
       "      <td>d94bde7a892a4a9bbbb404662c4211e0</td>\n",
       "      <td>2023-02-07</td>\n",
       "      <td>1675806458392</td>\n",
       "      <td>development</td>\n",
       "      <td>test_pipeline</td>\n",
       "      <td>mlops</td>\n",
       "      <td>4</td>\n",
       "      <td>mlops.com</td>\n",
       "      <td>None</td>\n",
       "      <td>{'test_data1': 'ec910d7fc2b744cc97cd14b37a3121...</td>\n",
       "      <td>{'test_model1': '7fdf2798e76e4be0b8b052653d913...</td>\n",
       "      <td>{'test_experiment': '275f0305f84e44d58dae0cde2...</td>\n",
       "    </tr>\n",
       "    <tr>\n",
       "      <th>3</th>\n",
       "      <td>d24e69c360bd440789de5df87797b1d9</td>\n",
       "      <td>2023-02-07</td>\n",
       "      <td>1675801823773</td>\n",
       "      <td>development</td>\n",
       "      <td>test_pipeline</td>\n",
       "      <td>mlops</td>\n",
       "      <td>3</td>\n",
       "      <td>mlops.com</td>\n",
       "      <td>None</td>\n",
       "      <td>{'test_data1': '45caf5b35edc49bfa14111be623172...</td>\n",
       "      <td>{'test_model1': 'e1b2710bce67440291e8e4485b489...</td>\n",
       "      <td>{'test_experiment': '515ccd70abde46f2a87feca9b...</td>\n",
       "    </tr>\n",
       "    <tr>\n",
       "      <th>4</th>\n",
       "      <td>f69e0d70df9c48069dd627e52b7cb436</td>\n",
       "      <td>2023-02-07</td>\n",
       "      <td>1675792654344</td>\n",
       "      <td>development</td>\n",
       "      <td>test_pipeline</td>\n",
       "      <td>mlops</td>\n",
       "      <td>2</td>\n",
       "      <td>mlops.com</td>\n",
       "      <td>None</td>\n",
       "      <td>{'test_data': 'aaf00ac219f6482386d61de10a8a89f2'}</td>\n",
       "      <td>{'test_model': '8e761efaaa2c45e19bb93a2d7a04a6...</td>\n",
       "      <td>{'test_experiment': '41f388bb80f44e859ceb9d949...</td>\n",
       "    </tr>\n",
       "    <tr>\n",
       "      <th>5</th>\n",
       "      <td>3003aee0d29449948e51207500eaa309</td>\n",
       "      <td>2023-02-07</td>\n",
       "      <td>1675788694904</td>\n",
       "      <td>development</td>\n",
       "      <td>test_pipeline</td>\n",
       "      <td>mlops</td>\n",
       "      <td>1</td>\n",
       "      <td>mlops.com</td>\n",
       "      <td>None</td>\n",
       "      <td>{'test_data': 'c8160a98540240dca617d2db2fe56048'}</td>\n",
       "      <td>{'test_model': '43a5d38a52ce4b349f51f90462cd2d...</td>\n",
       "      <td>{'test_experiment': '9e8fdf119492408187c339fd3...</td>\n",
       "    </tr>\n",
       "  </tbody>\n",
       "</table>\n",
       "</div>"
      ],
      "text/plain": [
       "                                uid        date      timestamp      app_env  \\\n",
       "0  3e98331bca33416382a601c37642b10e  2023-02-09  1675907684328  development   \n",
       "1  f6bb623c23d545eb9155283636f490bb  2023-02-09  1675907684328  development   \n",
       "2  d94bde7a892a4a9bbbb404662c4211e0  2023-02-07  1675806458392  development   \n",
       "3  d24e69c360bd440789de5df87797b1d9  2023-02-07  1675801823773  development   \n",
       "4  f69e0d70df9c48069dd627e52b7cb436  2023-02-07  1675792654344  development   \n",
       "5  3003aee0d29449948e51207500eaa309  2023-02-07  1675788694904  development   \n",
       "\n",
       "            name   team  version user_email pipeline_code_uri  \\\n",
       "0  test_pipeline  mlops        6  mlops.com              None   \n",
       "1  test_pipeline  mlops        5  mlops.com              None   \n",
       "2  test_pipeline  mlops        4  mlops.com              None   \n",
       "3  test_pipeline  mlops        3  mlops.com              None   \n",
       "4  test_pipeline  mlops        2  mlops.com              None   \n",
       "5  test_pipeline  mlops        1  mlops.com              None   \n",
       "\n",
       "                                      data_card_uids  \\\n",
       "0  {'test_data1': '643e870c854f4d1b84dfd94a138456...   \n",
       "1  {'test_data1': '6402df6d227b4077b28f54061e5839...   \n",
       "2  {'test_data1': 'ec910d7fc2b744cc97cd14b37a3121...   \n",
       "3  {'test_data1': '45caf5b35edc49bfa14111be623172...   \n",
       "4  {'test_data': 'aaf00ac219f6482386d61de10a8a89f2'}   \n",
       "5  {'test_data': 'c8160a98540240dca617d2db2fe56048'}   \n",
       "\n",
       "                                     model_card_uids  \\\n",
       "0  {'test_model_one': '424b1c52599f4647bbea4f1bfa...   \n",
       "1  {'test_model_one': 'c078a1a862244b1c8a2997f16c...   \n",
       "2  {'test_model1': '7fdf2798e76e4be0b8b052653d913...   \n",
       "3  {'test_model1': 'e1b2710bce67440291e8e4485b489...   \n",
       "4  {'test_model': '8e761efaaa2c45e19bb93a2d7a04a6...   \n",
       "5  {'test_model': '43a5d38a52ce4b349f51f90462cd2d...   \n",
       "\n",
       "                                experiment_card_uids  \n",
       "0  {'test_experiment': 'eb9bd413cc3a4c68adc932329...  \n",
       "1  {'test_experiment': '20c463cd81c04822920d556d4...  \n",
       "2  {'test_experiment': '275f0305f84e44d58dae0cde2...  \n",
       "3  {'test_experiment': '515ccd70abde46f2a87feca9b...  \n",
       "4  {'test_experiment': '41f388bb80f44e859ceb9d949...  \n",
       "5  {'test_experiment': '9e8fdf119492408187c339fd3...  "
      ]
     },
     "execution_count": 14,
     "metadata": {},
     "output_type": "execute_result"
    }
   ],
   "source": [
    "pipeline_registry.list_cards()"
   ]
  },
  {
   "cell_type": "code",
   "execution_count": 15,
   "metadata": {},
   "outputs": [],
   "source": [
    "from opsml_artifacts import PipelineLoader\n",
    "loader = PipelineLoader(pipeline_card_uid=\"3e98331bca33416382a601c37642b10e\", connection_type=\"local\")"
   ]
  },
  {
   "cell_type": "code",
   "execution_count": 16,
   "metadata": {},
   "outputs": [
    {
     "data": {
      "image/svg+xml": "<?xml version=\"1.0\" encoding=\"UTF-8\" standalone=\"no\"?>\n<!DOCTYPE svg PUBLIC \"-//W3C//DTD SVG 1.1//EN\"\n \"http://www.w3.org/Graphics/SVG/1.1/DTD/svg11.dtd\">\n<!-- Generated by graphviz version 2.43.0 (0)\n -->\n<!-- Title: test_pipeline Pages: 1 -->\n<svg width=\"590pt\" height=\"477pt\"\n viewBox=\"0.00 0.00 590.00 476.50\" xmlns=\"http://www.w3.org/2000/svg\" xmlns:xlink=\"http://www.w3.org/1999/xlink\">\n<g id=\"graph0\" class=\"graph\" transform=\"scale(1 1) rotate(0) translate(4 472.5)\">\n<title>test_pipeline</title>\n<polygon fill=\"white\" stroke=\"transparent\" points=\"-4,4 -4,-472.5 586,-472.5 586,4 -4,4\"/>\n<text text-anchor=\"middle\" x=\"291\" y=\"-7.8\" font-family=\"arial\" font-size=\"14.00\">test pipeline</text>\n<!-- test_data1 -->\n<g id=\"node1\" class=\"node\">\n<title>test_data1</title>\n<path fill=\"#a7ebc4\" stroke=\"black\" d=\"M68,-414.5C68,-414.5 12,-414.5 12,-414.5 6,-414.5 0,-408.5 0,-402.5 0,-402.5 0,-390.5 0,-390.5 0,-384.5 6,-378.5 12,-378.5 12,-378.5 68,-378.5 68,-378.5 74,-378.5 80,-384.5 80,-390.5 80,-390.5 80,-402.5 80,-402.5 80,-408.5 74,-414.5 68,-414.5\"/>\n<text text-anchor=\"middle\" x=\"40\" y=\"-392.8\" font-family=\"arial\" font-size=\"14.00\">test_data1</text>\n</g>\n<!-- test_experiment -->\n<g id=\"node3\" class=\"node\">\n<title>test_experiment</title>\n<path fill=\"#a7ebc4\" stroke=\"black\" d=\"M393.5,-310.5C393.5,-310.5 304.5,-310.5 304.5,-310.5 298.5,-310.5 292.5,-304.5 292.5,-298.5 292.5,-298.5 292.5,-286.5 292.5,-286.5 292.5,-280.5 298.5,-274.5 304.5,-274.5 304.5,-274.5 393.5,-274.5 393.5,-274.5 399.5,-274.5 405.5,-280.5 405.5,-286.5 405.5,-286.5 405.5,-298.5 405.5,-298.5 405.5,-304.5 399.5,-310.5 393.5,-310.5\"/>\n<text text-anchor=\"middle\" x=\"349\" y=\"-288.8\" font-family=\"arial\" font-size=\"14.00\">test_experiment</text>\n</g>\n<!-- test_data1&#45;&gt;test_experiment -->\n<g id=\"edge4\" class=\"edge\">\n<title>test_data1&#45;&gt;test_experiment</title>\n<path fill=\"none\" stroke=\"black\" d=\"M80.23,-398.68C121.08,-399.55 186.21,-396.98 238,-376.5 271.09,-363.41 302.7,-337.36 323.48,-317.72\"/>\n<polygon fill=\"black\" stroke=\"black\" points=\"326.14,-320.02 330.89,-310.55 321.27,-314.99 326.14,-320.02\"/>\n</g>\n<!-- test_model_one -->\n<g id=\"node4\" class=\"node\">\n<title>test_model_one</title>\n<path fill=\"#a7ebc4\" stroke=\"black\" d=\"M221.5,-460.5C221.5,-460.5 132.5,-460.5 132.5,-460.5 126.5,-460.5 120.5,-454.5 120.5,-448.5 120.5,-448.5 120.5,-436.5 120.5,-436.5 120.5,-430.5 126.5,-424.5 132.5,-424.5 132.5,-424.5 221.5,-424.5 221.5,-424.5 227.5,-424.5 233.5,-430.5 233.5,-436.5 233.5,-436.5 233.5,-448.5 233.5,-448.5 233.5,-454.5 227.5,-460.5 221.5,-460.5\"/>\n<text text-anchor=\"middle\" x=\"177\" y=\"-438.8\" font-family=\"arial\" font-size=\"14.00\">test_model_one</text>\n</g>\n<!-- test_data1&#45;&gt;test_model_one -->\n<g id=\"edge11\" class=\"edge\">\n<title>test_data1&#45;&gt;test_model_one</title>\n<path fill=\"none\" stroke=\"black\" d=\"M80.05,-409.81C90.51,-413.37 102.09,-417.32 113.48,-421.2\"/>\n<polygon fill=\"black\" stroke=\"black\" points=\"112.38,-424.52 122.98,-424.43 114.64,-417.89 112.38,-424.52\"/>\n</g>\n<!-- test_data1_attr -->\n<g id=\"node8\" class=\"node\">\n<title>test_data1_attr</title>\n<polygon fill=\"#dcd3e6\" stroke=\"black\" points=\"234.5,-368 231.5,-372 210.5,-372 207.5,-368 119.5,-368 119.5,-305 234.5,-305 234.5,-368\"/>\n<text text-anchor=\"middle\" x=\"177\" y=\"-356\" font-family=\"arial\" font-size=\"10.00\">name=test_data1</text>\n<text text-anchor=\"middle\" x=\"177\" y=\"-345\" font-family=\"arial\" font-size=\"10.00\">team=mlops</text>\n<text text-anchor=\"middle\" x=\"177\" y=\"-334\" font-family=\"arial\" font-size=\"10.00\">version=4</text>\n<text text-anchor=\"middle\" x=\"177\" y=\"-323\" font-family=\"arial\" font-size=\"10.00\">data_type=ndarray</text>\n<text text-anchor=\"middle\" x=\"177\" y=\"-312\" font-family=\"arial\" font-size=\"10.00\">dependent_vars=None</text>\n</g>\n<!-- test_data1&#45;&gt;test_data1_attr -->\n<g id=\"edge1\" class=\"edge\">\n<title>test_data1&#45;&gt;test_data1_attr</title>\n<path fill=\"none\" stroke=\"black\" d=\"M80.05,-379.15C92.35,-373.68 106.2,-367.52 119.47,-361.63\"/>\n</g>\n<!-- test_data2 -->\n<g id=\"node2\" class=\"node\">\n<title>test_data2</title>\n<path fill=\"#a7ebc4\" stroke=\"black\" d=\"M68,-194.5C68,-194.5 12,-194.5 12,-194.5 6,-194.5 0,-188.5 0,-182.5 0,-182.5 0,-170.5 0,-170.5 0,-164.5 6,-158.5 12,-158.5 12,-158.5 68,-158.5 68,-158.5 74,-158.5 80,-164.5 80,-170.5 80,-170.5 80,-182.5 80,-182.5 80,-188.5 74,-194.5 68,-194.5\"/>\n<text text-anchor=\"middle\" x=\"40\" y=\"-172.8\" font-family=\"arial\" font-size=\"14.00\">test_data2</text>\n</g>\n<!-- test_data2&#45;&gt;test_experiment -->\n<g id=\"edge5\" class=\"edge\">\n<title>test_data2&#45;&gt;test_experiment</title>\n<path fill=\"none\" stroke=\"black\" d=\"M52.33,-194.67C65.25,-213.69 88.22,-242.8 116,-257.5 167.43,-284.72 233.69,-292.46 282.23,-293.98\"/>\n<polygon fill=\"black\" stroke=\"black\" points=\"282.22,-297.48 292.3,-294.22 282.39,-290.49 282.22,-297.48\"/>\n</g>\n<!-- test_model_two -->\n<g id=\"node5\" class=\"node\">\n<title>test_model_two</title>\n<path fill=\"#a7ebc4\" stroke=\"black\" d=\"M221,-248.5C221,-248.5 133,-248.5 133,-248.5 127,-248.5 121,-242.5 121,-236.5 121,-236.5 121,-224.5 121,-224.5 121,-218.5 127,-212.5 133,-212.5 133,-212.5 221,-212.5 221,-212.5 227,-212.5 233,-218.5 233,-224.5 233,-224.5 233,-236.5 233,-236.5 233,-242.5 227,-248.5 221,-248.5\"/>\n<text text-anchor=\"middle\" x=\"177\" y=\"-226.8\" font-family=\"arial\" font-size=\"14.00\">test_model_two</text>\n</g>\n<!-- test_data2&#45;&gt;test_model_two -->\n<g id=\"edge13\" class=\"edge\">\n<title>test_data2&#45;&gt;test_model_two</title>\n<path fill=\"none\" stroke=\"black\" d=\"M80.05,-192.12C92.95,-197.28 107.56,-203.12 121.41,-208.67\"/>\n<polygon fill=\"black\" stroke=\"black\" points=\"120.27,-211.98 130.85,-212.44 122.87,-205.48 120.27,-211.98\"/>\n</g>\n<!-- test_model_three -->\n<g id=\"node6\" class=\"node\">\n<title>test_model_three</title>\n<path fill=\"#a7ebc4\" stroke=\"black\" d=\"M226,-194.5C226,-194.5 128,-194.5 128,-194.5 122,-194.5 116,-188.5 116,-182.5 116,-182.5 116,-170.5 116,-170.5 116,-164.5 122,-158.5 128,-158.5 128,-158.5 226,-158.5 226,-158.5 232,-158.5 238,-164.5 238,-170.5 238,-170.5 238,-182.5 238,-182.5 238,-188.5 232,-194.5 226,-194.5\"/>\n<text text-anchor=\"middle\" x=\"177\" y=\"-172.8\" font-family=\"arial\" font-size=\"14.00\">test_model_three</text>\n</g>\n<!-- test_data2&#45;&gt;test_model_three -->\n<g id=\"edge15\" class=\"edge\">\n<title>test_data2&#45;&gt;test_model_three</title>\n<path fill=\"none\" stroke=\"black\" d=\"M80.05,-176.5C88.19,-176.5 97.02,-176.5 105.9,-176.5\"/>\n<polygon fill=\"black\" stroke=\"black\" points=\"105.93,-180 115.93,-176.5 105.93,-173 105.93,-180\"/>\n</g>\n<!-- test_model_four -->\n<g id=\"node7\" class=\"node\">\n<title>test_model_four</title>\n<path fill=\"#a7ebc4\" stroke=\"black\" d=\"M222,-140.5C222,-140.5 132,-140.5 132,-140.5 126,-140.5 120,-134.5 120,-128.5 120,-128.5 120,-116.5 120,-116.5 120,-110.5 126,-104.5 132,-104.5 132,-104.5 222,-104.5 222,-104.5 228,-104.5 234,-110.5 234,-116.5 234,-116.5 234,-128.5 234,-128.5 234,-134.5 228,-140.5 222,-140.5\"/>\n<text text-anchor=\"middle\" x=\"177\" y=\"-118.8\" font-family=\"arial\" font-size=\"14.00\">test_model_four</text>\n</g>\n<!-- test_data2&#45;&gt;test_model_four -->\n<g id=\"edge17\" class=\"edge\">\n<title>test_data2&#45;&gt;test_model_four</title>\n<path fill=\"none\" stroke=\"black\" d=\"M80.05,-160.88C92.95,-155.72 107.56,-149.88 121.41,-144.33\"/>\n<polygon fill=\"black\" stroke=\"black\" points=\"122.87,-147.52 130.85,-140.56 120.27,-141.02 122.87,-147.52\"/>\n</g>\n<!-- test_data2_attr -->\n<g id=\"node9\" class=\"node\">\n<title>test_data2_attr</title>\n<polygon fill=\"#dcd3e6\" stroke=\"black\" points=\"234.5,-86 231.5,-90 210.5,-90 207.5,-86 119.5,-86 119.5,-23 234.5,-23 234.5,-86\"/>\n<text text-anchor=\"middle\" x=\"177\" y=\"-74\" font-family=\"arial\" font-size=\"10.00\">name=test_data2</text>\n<text text-anchor=\"middle\" x=\"177\" y=\"-63\" font-family=\"arial\" font-size=\"10.00\">team=mlops</text>\n<text text-anchor=\"middle\" x=\"177\" y=\"-52\" font-family=\"arial\" font-size=\"10.00\">version=4</text>\n<text text-anchor=\"middle\" x=\"177\" y=\"-41\" font-family=\"arial\" font-size=\"10.00\">data_type=ndarray</text>\n<text text-anchor=\"middle\" x=\"177\" y=\"-30\" font-family=\"arial\" font-size=\"10.00\">dependent_vars=None</text>\n</g>\n<!-- test_data2&#45;&gt;test_data2_attr -->\n<g id=\"edge2\" class=\"edge\">\n<title>test_data2&#45;&gt;test_data2_attr</title>\n<path fill=\"none\" stroke=\"black\" d=\"M55.75,-158.34C70.17,-141.16 93.21,-115.15 116,-95.5 119.73,-92.29 123.71,-89.1 127.79,-86.01\"/>\n</g>\n<!-- test_experiment_attr -->\n<g id=\"node10\" class=\"node\">\n<title>test_experiment_attr</title>\n<polygon fill=\"#dcd3e6\" stroke=\"black\" points=\"582,-318.5 579,-322.5 558,-322.5 555,-318.5 460,-318.5 460,-266.5 582,-266.5 582,-318.5\"/>\n<text text-anchor=\"middle\" x=\"521\" y=\"-306.5\" font-family=\"arial\" font-size=\"10.00\">model_four mape=40.0</text>\n<text text-anchor=\"middle\" x=\"521\" y=\"-295.5\" font-family=\"arial\" font-size=\"10.00\">model_three mape=30.0</text>\n<text text-anchor=\"middle\" x=\"521\" y=\"-284.5\" font-family=\"arial\" font-size=\"10.00\">model_two mape=20.0</text>\n<text text-anchor=\"middle\" x=\"521\" y=\"-273.5\" font-family=\"arial\" font-size=\"10.00\">model_one mape=10.0</text>\n</g>\n<!-- test_experiment&#45;&gt;test_experiment_attr -->\n<g id=\"edge3\" class=\"edge\">\n<title>test_experiment&#45;&gt;test_experiment_attr</title>\n<path fill=\"none\" stroke=\"black\" d=\"M405.66,-292.5C423,-292.5 442.19,-292.5 459.81,-292.5\"/>\n</g>\n<!-- test_model_one&#45;&gt;test_experiment -->\n<g id=\"edge6\" class=\"edge\">\n<title>test_model_one&#45;&gt;test_experiment</title>\n<path fill=\"none\" stroke=\"black\" d=\"M216.62,-424.34C223.99,-420.21 231.45,-415.54 238,-410.5 273.31,-383.36 307.2,-344.41 327.81,-318.79\"/>\n<polygon fill=\"black\" stroke=\"black\" points=\"330.79,-320.66 334.27,-310.65 325.31,-316.3 330.79,-320.66\"/>\n</g>\n<!-- test_model_one_attr -->\n<g id=\"node11\" class=\"node\">\n<title>test_model_one_attr</title>\n<polygon fill=\"#dcd3e6\" stroke=\"black\" points=\"424,-468.5 421,-472.5 400,-472.5 397,-468.5 274,-468.5 274,-416.5 424,-416.5 424,-468.5\"/>\n<text text-anchor=\"middle\" x=\"349\" y=\"-456.5\" font-family=\"arial\" font-size=\"10.00\">name=test_model_one</text>\n<text text-anchor=\"middle\" x=\"349\" y=\"-445.5\" font-family=\"arial\" font-size=\"10.00\">team=mlops</text>\n<text text-anchor=\"middle\" x=\"349\" y=\"-434.5\" font-family=\"arial\" font-size=\"10.00\">version=2</text>\n<text text-anchor=\"middle\" x=\"349\" y=\"-423.5\" font-family=\"arial\" font-size=\"10.00\">model_type=sklearn_estimator</text>\n</g>\n<!-- test_model_one&#45;&gt;test_model_one_attr -->\n<g id=\"edge10\" class=\"edge\">\n<title>test_model_one&#45;&gt;test_model_one_attr</title>\n<path fill=\"none\" stroke=\"black\" d=\"M233.66,-442.5C246.54,-442.5 260.45,-442.5 273.97,-442.5\"/>\n</g>\n<!-- test_model_two&#45;&gt;test_experiment -->\n<g id=\"edge7\" class=\"edge\">\n<title>test_model_two&#45;&gt;test_experiment</title>\n<path fill=\"none\" stroke=\"black\" d=\"M227.63,-248.6C246.83,-255.6 268.96,-263.68 288.97,-270.97\"/>\n<polygon fill=\"black\" stroke=\"black\" points=\"288.01,-274.35 298.6,-274.49 290.41,-267.77 288.01,-274.35\"/>\n</g>\n<!-- test_model_two_attr -->\n<g id=\"node12\" class=\"node\">\n<title>test_model_two_attr</title>\n<polygon fill=\"#dcd3e6\" stroke=\"black\" points=\"424,-256.5 421,-260.5 400,-260.5 397,-256.5 274,-256.5 274,-204.5 424,-204.5 424,-256.5\"/>\n<text text-anchor=\"middle\" x=\"349\" y=\"-244.5\" font-family=\"arial\" font-size=\"10.00\">name=test_model_two</text>\n<text text-anchor=\"middle\" x=\"349\" y=\"-233.5\" font-family=\"arial\" font-size=\"10.00\">team=mlops</text>\n<text text-anchor=\"middle\" x=\"349\" y=\"-222.5\" font-family=\"arial\" font-size=\"10.00\">version=2</text>\n<text text-anchor=\"middle\" x=\"349\" y=\"-211.5\" font-family=\"arial\" font-size=\"10.00\">model_type=sklearn_estimator</text>\n</g>\n<!-- test_model_two&#45;&gt;test_model_two_attr -->\n<g id=\"edge12\" class=\"edge\">\n<title>test_model_two&#45;&gt;test_model_two_attr</title>\n<path fill=\"none\" stroke=\"black\" d=\"M233.19,-230.5C246.19,-230.5 260.24,-230.5 273.91,-230.5\"/>\n</g>\n<!-- test_model_three&#45;&gt;test_experiment -->\n<g id=\"edge8\" class=\"edge\">\n<title>test_model_three&#45;&gt;test_experiment</title>\n<path fill=\"none\" stroke=\"black\" d=\"M225.91,-194.64C230.24,-197.26 234.35,-200.21 238,-203.5 261.66,-224.84 249.57,-245.04 274,-265.5 276.9,-267.93 280.03,-270.14 283.31,-272.17\"/>\n<polygon fill=\"black\" stroke=\"black\" points=\"281.85,-275.36 292.3,-277.09 285.21,-269.22 281.85,-275.36\"/>\n</g>\n<!-- test_model_three_attr -->\n<g id=\"node13\" class=\"node\">\n<title>test_model_three_attr</title>\n<polygon fill=\"#dcd3e6\" stroke=\"black\" points=\"424,-186.5 421,-190.5 400,-190.5 397,-186.5 274,-186.5 274,-134.5 424,-134.5 424,-186.5\"/>\n<text text-anchor=\"middle\" x=\"349\" y=\"-174.5\" font-family=\"arial\" font-size=\"10.00\">name=test_model_three</text>\n<text text-anchor=\"middle\" x=\"349\" y=\"-163.5\" font-family=\"arial\" font-size=\"10.00\">team=mlops</text>\n<text text-anchor=\"middle\" x=\"349\" y=\"-152.5\" font-family=\"arial\" font-size=\"10.00\">version=2</text>\n<text text-anchor=\"middle\" x=\"349\" y=\"-141.5\" font-family=\"arial\" font-size=\"10.00\">model_type=sklearn_estimator</text>\n</g>\n<!-- test_model_three&#45;&gt;test_model_three_attr -->\n<g id=\"edge14\" class=\"edge\">\n<title>test_model_three&#45;&gt;test_model_three_attr</title>\n<path fill=\"none\" stroke=\"black\" d=\"M238.41,-170.81C249.87,-169.74 261.97,-168.6 273.79,-167.48\"/>\n</g>\n<!-- test_model_four&#45;&gt;test_experiment -->\n<g id=\"edge9\" class=\"edge\">\n<title>test_model_four&#45;&gt;test_experiment</title>\n<path fill=\"none\" stroke=\"black\" d=\"M227.88,-140.62C231.6,-143.22 235.05,-146.16 238,-149.5 273.77,-189.93 236.77,-226.41 274,-265.5 276.92,-268.56 280.21,-271.28 283.75,-273.69\"/>\n<polygon fill=\"black\" stroke=\"black\" points=\"281.98,-276.71 292.37,-278.78 285.53,-270.68 281.98,-276.71\"/>\n</g>\n<!-- test_model_four_attr -->\n<g id=\"node14\" class=\"node\">\n<title>test_model_four_attr</title>\n<polygon fill=\"#dcd3e6\" stroke=\"black\" points=\"424,-116.5 421,-120.5 400,-120.5 397,-116.5 274,-116.5 274,-64.5 424,-64.5 424,-116.5\"/>\n<text text-anchor=\"middle\" x=\"349\" y=\"-104.5\" font-family=\"arial\" font-size=\"10.00\">name=test_model_four</text>\n<text text-anchor=\"middle\" x=\"349\" y=\"-93.5\" font-family=\"arial\" font-size=\"10.00\">team=mlops</text>\n<text text-anchor=\"middle\" x=\"349\" y=\"-82.5\" font-family=\"arial\" font-size=\"10.00\">version=2</text>\n<text text-anchor=\"middle\" x=\"349\" y=\"-71.5\" font-family=\"arial\" font-size=\"10.00\">model_type=sklearn_estimator</text>\n</g>\n<!-- test_model_four&#45;&gt;test_model_four_attr -->\n<g id=\"edge16\" class=\"edge\">\n<title>test_model_four&#45;&gt;test_model_four_attr</title>\n<path fill=\"none\" stroke=\"black\" d=\"M234.14,-111.93C246.8,-109.55 260.45,-106.98 273.73,-104.48\"/>\n</g>\n</g>\n</svg>\n",
      "text/plain": [
       "<graphviz.graphs.Digraph at 0x7f4312a24b20>"
      ]
     },
     "execution_count": 16,
     "metadata": {},
     "output_type": "execute_result"
    }
   ],
   "source": [
    "loader.visualize()"
   ]
  },
  {
   "cell_type": "code",
   "execution_count": null,
   "metadata": {},
   "outputs": [],
   "source": []
  }
 ],
 "metadata": {
  "kernelspec": {
   "display_name": "opsml-artifacts-PlKkxN_--py3.9",
   "language": "python",
   "name": "python3"
  },
  "language_info": {
   "codemirror_mode": {
    "name": "ipython",
    "version": 3
   },
   "file_extension": ".py",
   "mimetype": "text/x-python",
   "name": "python",
   "nbconvert_exporter": "python",
   "pygments_lexer": "ipython3",
   "version": "3.9.2"
  },
  "orig_nbformat": 4,
  "vscode": {
   "interpreter": {
    "hash": "604b08983ccc8e381ffb507d8e90313f7f75b1374736d7c53b7047229f6d13a7"
   }
  }
 },
 "nbformat": 4,
 "nbformat_minor": 2
}
