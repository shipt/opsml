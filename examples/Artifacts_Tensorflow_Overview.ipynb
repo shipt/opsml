{
 "cells": [
  {
   "cell_type": "code",
   "execution_count": 14,
   "id": "b5102fd0",
   "metadata": {},
   "outputs": [],
   "source": [
    "from opsml.registry import ModelCard, DataCard, CardRegistry\n",
    "from opsml.connector import SnowflakeQueryRunner\n",
    "import tensorflow as tf\n",
    "from tensorflow import keras\n",
    "from tensorflow.keras import layers\n",
    "import numpy as np"
   ]
  },
  {
   "cell_type": "markdown",
   "id": "7e180b37",
   "metadata": {},
   "source": [
    "### Get Sample Data"
   ]
  },
  {
   "cell_type": "code",
   "execution_count": 3,
   "id": "62ef46d3",
   "metadata": {},
   "outputs": [
    {
     "name": "stdout",
     "output_type": "stream",
     "text": [
      "25000 Training sequences\n",
      "25000 Validation sequences\n"
     ]
    }
   ],
   "source": [
    "vocab_size = 500  # Only consider the top 20k words\n",
    "maxlen = 100  # Only consider the first 200 words of each movie review\n",
    "(x_train, y_train), (x_val, y_val) = keras.datasets.imdb.load_data(num_words=vocab_size)\n",
    "print(len(x_train), \"Training sequences\")\n",
    "print(len(x_val), \"Validation sequences\")\n",
    "x_train = keras.preprocessing.sequence.pad_sequences(x_train, maxlen=maxlen)\n",
    "x_val = keras.preprocessing.sequence.pad_sequences(x_val, maxlen=maxlen)"
   ]
  },
  {
   "cell_type": "markdown",
   "id": "7c387c17",
   "metadata": {},
   "source": [
    "### Create Model"
   ]
  },
  {
   "cell_type": "code",
   "execution_count": 4,
   "id": "fd53d8cc",
   "metadata": {},
   "outputs": [],
   "source": [
    "class TransformerBlock(layers.Layer):\n",
    "    def __init__(self, embed_dim, num_heads, ff_dim, rate=0.1):\n",
    "        super().__init__()\n",
    "        self.att = layers.MultiHeadAttention(num_heads=num_heads, key_dim=embed_dim)\n",
    "        self.ffn = keras.Sequential(\n",
    "            [layers.Dense(ff_dim, activation=\"relu\"), layers.Dense(embed_dim),]\n",
    "        )\n",
    "        self.layernorm1 = layers.LayerNormalization(epsilon=1e-6)\n",
    "        self.layernorm2 = layers.LayerNormalization(epsilon=1e-6)\n",
    "        self.dropout1 = layers.Dropout(rate)\n",
    "        self.dropout2 = layers.Dropout(rate)\n",
    "\n",
    "    def call(self, inputs, training):\n",
    "        attn_output = self.att(inputs, inputs)\n",
    "        attn_output = self.dropout1(attn_output, training=training)\n",
    "        out1 = self.layernorm1(inputs + attn_output)\n",
    "        ffn_output = self.ffn(out1)\n",
    "        ffn_output = self.dropout2(ffn_output, training=training)\n",
    "        return self.layernorm2(out1 + ffn_output)\n",
    "\n",
    "class TokenAndPositionEmbedding(layers.Layer):\n",
    "    def __init__(self, maxlen, vocab_size, embed_dim):\n",
    "        super().__init__()\n",
    "        self.token_emb = layers.Embedding(input_dim=vocab_size, output_dim=embed_dim)\n",
    "        self.pos_emb = layers.Embedding(input_dim=maxlen, output_dim=embed_dim)\n",
    "\n",
    "    def call(self, x):\n",
    "        maxlen = tf.shape(x)[-1]\n",
    "        positions = tf.range(start=0, limit=maxlen, delta=1)\n",
    "        positions = self.pos_emb(positions)\n",
    "        x = self.token_emb(x)\n",
    "        return x + positions"
   ]
  },
  {
   "cell_type": "markdown",
   "id": "28f0d57a",
   "metadata": {},
   "source": [
    "### Combine model  layers\n",
    "- making model smaller for example"
   ]
  },
  {
   "cell_type": "code",
   "execution_count": 5,
   "id": "ec477233",
   "metadata": {},
   "outputs": [
    {
     "name": "stderr",
     "output_type": "stream",
     "text": [
      "2023-02-01 21:11:43.437330: W tensorflow/stream_executor/platform/default/dso_loader.cc:64] Could not load dynamic library 'libcuda.so.1'; dlerror: libcuda.so.1: cannot open shared object file: No such file or directory\n",
      "2023-02-01 21:11:43.438328: W tensorflow/stream_executor/cuda/cuda_driver.cc:263] failed call to cuInit: UNKNOWN ERROR (303)\n",
      "2023-02-01 21:11:43.438379: I tensorflow/stream_executor/cuda/cuda_diagnostics.cc:156] kernel driver does not appear to be running on this host (steven-dev): /proc/driver/nvidia/version does not exist\n",
      "2023-02-01 21:11:43.439807: I tensorflow/core/platform/cpu_feature_guard.cc:193] This TensorFlow binary is optimized with oneAPI Deep Neural Network Library (oneDNN) to use the following CPU instructions in performance-critical operations:  AVX2 FMA\n",
      "To enable them in other operations, rebuild TensorFlow with the appropriate compiler flags.\n"
     ]
    }
   ],
   "source": [
    "embed_dim = 4  # Embedding size for each token\n",
    "num_heads = 2  # Number of attention heads\n",
    "ff_dim = 4  # Hidden layer size in feed forward network inside transformer\n",
    "\n",
    "inputs = layers.Input(shape=(maxlen,))\n",
    "embedding_layer = TokenAndPositionEmbedding(maxlen, vocab_size, embed_dim)\n",
    "x = embedding_layer(inputs)\n",
    "transformer_block = TransformerBlock(embed_dim, num_heads, ff_dim)\n",
    "x = transformer_block(x)\n",
    "x = layers.GlobalAveragePooling1D()(x)\n",
    "x = layers.Dropout(0.1)(x)\n",
    "x = layers.Dense(4, activation=\"relu\")(x)\n",
    "x = layers.Dropout(0.1)(x)\n",
    "outputs = layers.Dense(2, activation=\"softmax\")(x)\n",
    "\n",
    "model = keras.Model(inputs=inputs, outputs=outputs)"
   ]
  },
  {
   "cell_type": "markdown",
   "id": "16830fe1",
   "metadata": {},
   "source": [
    "### Fit Model"
   ]
  },
  {
   "cell_type": "code",
   "execution_count": 6,
   "id": "01e6bc56",
   "metadata": {},
   "outputs": [
    {
     "name": "stdout",
     "output_type": "stream",
     "text": [
      "20/20 [==============================] - 6s 235ms/step - loss: 0.6944 - accuracy: 0.5039 - val_loss: 0.6954 - val_accuracy: 0.4976\n"
     ]
    }
   ],
   "source": [
    "model.compile(optimizer=\"adam\", loss=\"sparse_categorical_crossentropy\", metrics=[\"accuracy\"])\n",
    "history = model.fit(\n",
    "    x_train.astype(np.float32), y_train, batch_size=64, epochs=1, steps_per_epoch=20,validation_data=(x_val.astype(np.float32), y_val)\n",
    ")"
   ]
  },
  {
   "cell_type": "markdown",
   "id": "b875588c",
   "metadata": {},
   "source": [
    "### Test ModelCard"
   ]
  },
  {
   "cell_type": "code",
   "execution_count": 16,
   "id": "24d046a4",
   "metadata": {},
   "outputs": [
    {
     "name": "stderr",
     "output_type": "stream",
     "text": [
      "2023-02-01 21:14:33.618105: I tensorflow/core/grappler/devices.cc:66] Number of eligible GPUs (core count >= 8, compute capability >= 0.0): 0\n",
      "2023-02-01 21:14:33.618338: I tensorflow/core/grappler/clusters/single_machine.cc:358] Starting new session\n",
      "2023-02-01 21:14:33.806015: I tensorflow/core/grappler/devices.cc:66] Number of eligible GPUs (core count >= 8, compute capability >= 0.0): 0\n",
      "2023-02-01 21:14:33.806210: I tensorflow/core/grappler/clusters/single_machine.cc:358] Starting new session\n"
     ]
    },
    {
     "name": "stdout",
     "output_type": "stream",
     "text": [
      "1/1 [==============================] - 0s 25ms/step\n",
      "{\"level\": \"INFO\", \"message\": \"Validating converted onnx model\", \"timestamp\": \"2023-02-01T21:14:34.782461Z\", \"app_env\": \"development\", \"host\": null, \"pid\": 339443}\n",
      "{\"level\": \"INFO\", \"message\": \"Onnx model validated\", \"timestamp\": \"2023-02-01T21:14:34.808398Z\", \"app_env\": \"development\", \"host\": null, \"pid\": 339443}\n"
     ]
    }
   ],
   "source": [
    "MODEL_NAME = \"transformer\"\n",
    "TEAM = \"SPMS\"\n",
    "USER_EMAIL = \"steven.forrester@shipt.com\"\n",
    "\n",
    "data_card = DataCard(\n",
    "         name=\"keras_test_data\", \n",
    "         team=TEAM, \n",
    "         user_email=USER_EMAIL, \n",
    "         data=x_train,\n",
    "        )\n",
    "\n",
    "\n",
    "model_card = ModelCard(\n",
    "    name=MODEL_NAME,\n",
    "    team=TEAM,\n",
    "    user_email=USER_EMAIL,\n",
    "    trained_model=model,\n",
    "    sample_input_data=x_train[0:1],\n",
    ")"
   ]
  },
  {
   "cell_type": "code",
   "execution_count": 8,
   "id": "03572874",
   "metadata": {},
   "outputs": [
    {
     "name": "stdout",
     "output_type": "stream",
     "text": [
      "{\"level\": \"WARNING\", \"message\": \"ModelCard has no version (not registered).\\n                Defaulting to 1 (for testing only)\\n            \", \"timestamp\": \"2023-02-01T21:12:04.091181Z\", \"app_env\": \"development\", \"host\": null, \"pid\": 339443}\n"
     ]
    }
   ],
   "source": [
    "onnx_model = model_card.model()"
   ]
  },
  {
   "cell_type": "code",
   "execution_count": 9,
   "id": "e7a4cb5c",
   "metadata": {},
   "outputs": [
    {
     "data": {
      "text/plain": [
       "{'title': 'Features',\n",
       " 'type': 'object',\n",
       " 'properties': {'input_1': {'title': 'Input 1',\n",
       "   'minItems': 100,\n",
       "   'maxItems': 100,\n",
       "   'type': 'array',\n",
       "   'items': {'type': 'number'}}},\n",
       " 'required': ['input_1']}"
      ]
     },
     "execution_count": 9,
     "metadata": {},
     "output_type": "execute_result"
    }
   ],
   "source": [
    "onnx_model.input_sig.schema()"
   ]
  },
  {
   "cell_type": "code",
   "execution_count": 10,
   "id": "ab8e9c31",
   "metadata": {},
   "outputs": [
    {
     "data": {
      "text/plain": [
       "{'title': 'Features',\n",
       " 'type': 'object',\n",
       " 'properties': {'dense_3': {'title': 'Dense 3',\n",
       "   'minItems': 2,\n",
       "   'maxItems': 2,\n",
       "   'type': 'array',\n",
       "   'items': {'type': 'number'}}},\n",
       " 'required': ['dense_3']}"
      ]
     },
     "execution_count": 10,
     "metadata": {},
     "output_type": "execute_result"
    }
   ],
   "source": [
    "onnx_model.output_sig.schema()"
   ]
  },
  {
   "cell_type": "code",
   "execution_count": 17,
   "id": "7fd51584",
   "metadata": {},
   "outputs": [],
   "source": [
    "data_registry = CardRegistry(registry_name=\"data\")\n",
    "model_registry = CardRegistry(registry_name=\"model\")"
   ]
  },
  {
   "cell_type": "code",
   "execution_count": 18,
   "id": "832f4f2f-45e2-412b-8fef-9e090cbfb0ab",
   "metadata": {},
   "outputs": [
    {
     "name": "stdout",
     "output_type": "stream",
     "text": [
      "{\"level\": \"INFO\", \"message\": \"DATA_REGISTRTY: keras_test_data registered as version 1\", \"timestamp\": \"2023-02-01T21:15:05.877276Z\", \"app_env\": \"development\", \"host\": null, \"pid\": 339443}\n"
     ]
    }
   ],
   "source": [
    "data_registry.register_card(data_card)"
   ]
  },
  {
   "cell_type": "code",
   "execution_count": 19,
   "id": "bffc6121-3d1a-452b-b302-c52862bd6045",
   "metadata": {},
   "outputs": [],
   "source": [
    "model_card.data_card_uid=data_card.uid"
   ]
  },
  {
   "cell_type": "code",
   "execution_count": 20,
   "id": "8397b28e-ffc2-479d-b04f-702431e98fb2",
   "metadata": {},
   "outputs": [
    {
     "name": "stderr",
     "output_type": "stream",
     "text": [
      "WARNING:absl:Found untraced functions such as embedding_layer_call_fn, embedding_layer_call_and_return_conditional_losses, embedding_1_layer_call_fn, embedding_1_layer_call_and_return_conditional_losses, multi_head_attention_layer_call_fn while saving (showing 5 of 26). These functions will not be directly callable after loading.\n"
     ]
    },
    {
     "name": "stdout",
     "output_type": "stream",
     "text": [
      "INFO:tensorflow:Assets written to: /tmp/tmpf4egvg_4/e57d21d188da4d73bac8e7853ea1cdb7/assets\n"
     ]
    },
    {
     "name": "stderr",
     "output_type": "stream",
     "text": [
      "INFO:tensorflow:Assets written to: /tmp/tmpf4egvg_4/e57d21d188da4d73bac8e7853ea1cdb7/assets\n"
     ]
    },
    {
     "name": "stdout",
     "output_type": "stream",
     "text": [
      "{\"level\": \"INFO\", \"message\": \"MODEL_REGISTRY: transformer registered as version 1\", \"timestamp\": \"2023-02-01T21:15:37.838463Z\", \"app_env\": \"development\", \"host\": null, \"pid\": 339443}\n"
     ]
    }
   ],
   "source": [
    "model_registry.register_card(model_card)"
   ]
  },
  {
   "cell_type": "code",
   "execution_count": null,
   "id": "f64972af-e632-48a0-9188-6e9c296c81c3",
   "metadata": {},
   "outputs": [],
   "source": []
  }
 ],
 "metadata": {
  "kernelspec": {
   "display_name": "Python 3 (ipykernel)",
   "language": "python",
   "name": "python3"
  },
  "language_info": {
   "codemirror_mode": {
    "name": "ipython",
    "version": 3
   },
   "file_extension": ".py",
   "mimetype": "text/x-python",
   "name": "python",
   "nbconvert_exporter": "python",
   "pygments_lexer": "ipython3",
   "version": "3.9.2"
  }
 },
 "nbformat": 4,
 "nbformat_minor": 5
}
